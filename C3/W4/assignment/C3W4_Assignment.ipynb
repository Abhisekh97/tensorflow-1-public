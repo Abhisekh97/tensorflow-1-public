{
  "cells": [
    {
      "cell_type": "markdown",
      "metadata": {
        "id": "bFWbEb6uGbN-"
      },
      "source": [
        "# Week 4: Predicting the next word\n",
        "\n",
        "Welcome to this assignment! During this week you saw how to create a model that will predict the next word in a text sequence, now you will implement such model and train it using a corpus of Shakespeare's sonnets, while also creating some helper functions to pre-process the data.\n",
        "\n",
        "\n",
        "Let's get started!"
      ]
    },
    {
      "cell_type": "markdown",
      "metadata": {
        "id": "Cp4A-ZBwSN11"
      },
      "source": [
        "_**NOTE:** To prevent errors from the autograder, please avoid editing or deleting non-graded cells in this notebook . Please only put your solutions in between the `### START CODE HERE` and `### END CODE HERE` code comments, and also refrain from adding any new cells._"
      ]
    },
    {
      "cell_type": "code",
      "execution_count": 1,
      "metadata": {
        "deletable": false,
        "editable": false,
        "id": "BOwsuGQQY9OL",
        "tags": [
          "graded"
        ]
      },
      "outputs": [],
      "source": [
        "# grader-required-cell\n",
        "\n",
        "import numpy as np\n",
        "import matplotlib.pyplot as plt\n",
        "from tensorflow.keras.models import Sequential\n",
        "from tensorflow.keras.utils import to_categorical\n",
        "from tensorflow.keras.preprocessing.text import Tokenizer\n",
        "from tensorflow.keras.preprocessing.sequence import pad_sequences\n",
        "from tensorflow.keras.layers import Embedding, LSTM, Dense, Bidirectional"
      ]
    },
    {
      "cell_type": "markdown",
      "metadata": {
        "id": "BTxqlHqKHzhr"
      },
      "source": [
        "For this assignment you will be using the [Shakespeare Sonnets Dataset](https://www.opensourceshakespeare.org/views/sonnets/sonnet_view.php?range=viewrange&sonnetrange1=1&sonnetrange2=154), which contains more than 2000 lines of text extracted from Shakespeare's sonnets."
      ]
    },
    {
      "cell_type": "code",
      "execution_count": 2,
      "metadata": {
        "colab": {
          "base_uri": "https://localhost:8080/"
        },
        "id": "Z2VHvSW-TDvQ",
        "outputId": "a16bcf4b-d798-4dae-9841-92ca29dadf08"
      },
      "outputs": [
        {
          "output_type": "stream",
          "name": "stdout",
          "text": [
            "Requirement already satisfied: gdown==4.6.0 in /usr/local/lib/python3.10/dist-packages (4.6.0)\n",
            "Requirement already satisfied: filelock in /usr/local/lib/python3.10/dist-packages (from gdown==4.6.0) (3.13.1)\n",
            "Requirement already satisfied: requests[socks] in /usr/local/lib/python3.10/dist-packages (from gdown==4.6.0) (2.31.0)\n",
            "Requirement already satisfied: six in /usr/local/lib/python3.10/dist-packages (from gdown==4.6.0) (1.16.0)\n",
            "Requirement already satisfied: tqdm in /usr/local/lib/python3.10/dist-packages (from gdown==4.6.0) (4.66.1)\n",
            "Requirement already satisfied: beautifulsoup4 in /usr/local/lib/python3.10/dist-packages (from gdown==4.6.0) (4.11.2)\n",
            "Requirement already satisfied: soupsieve>1.2 in /usr/local/lib/python3.10/dist-packages (from beautifulsoup4->gdown==4.6.0) (2.5)\n",
            "Requirement already satisfied: charset-normalizer<4,>=2 in /usr/local/lib/python3.10/dist-packages (from requests[socks]->gdown==4.6.0) (3.3.2)\n",
            "Requirement already satisfied: idna<4,>=2.5 in /usr/local/lib/python3.10/dist-packages (from requests[socks]->gdown==4.6.0) (3.6)\n",
            "Requirement already satisfied: urllib3<3,>=1.21.1 in /usr/local/lib/python3.10/dist-packages (from requests[socks]->gdown==4.6.0) (2.0.7)\n",
            "Requirement already satisfied: certifi>=2017.4.17 in /usr/local/lib/python3.10/dist-packages (from requests[socks]->gdown==4.6.0) (2023.11.17)\n",
            "Requirement already satisfied: PySocks!=1.5.7,>=1.5.6 in /usr/local/lib/python3.10/dist-packages (from requests[socks]->gdown==4.6.0) (1.7.1)\n"
          ]
        }
      ],
      "source": [
        "\n",
        "!pip install gdown==4.6.0"
      ]
    },
    {
      "cell_type": "code",
      "execution_count": 3,
      "metadata": {
        "deletable": false,
        "editable": false,
        "id": "WZ4qOUzujMP6",
        "tags": [
          "graded"
        ],
        "colab": {
          "base_uri": "https://localhost:8080/"
        },
        "outputId": "d099d0b5-9749-4eca-ab1d-43e4edb94964"
      },
      "outputs": [
        {
          "output_type": "stream",
          "name": "stdout",
          "text": [
            "/usr/local/lib/python3.10/dist-packages/gdown/cli.py:121: FutureWarning: Option `--id` was deprecated in version 4.3.1 and will be removed in 5.0. You don't need to pass it anymore to use a file ID.\n",
            "  warnings.warn(\n",
            "Downloading...\n",
            "From: https://drive.google.com/uc?id=108jAePKK4R3BVYBbYJZ32JWUwxeMg20K\n",
            "To: /content/sonnets.txt\n",
            "100% 93.6k/93.6k [00:00<00:00, 110MB/s]\n"
          ]
        }
      ],
      "source": [
        "# grader-required-cell\n",
        "\n",
        "# sonnets.txt\n",
        "!gdown --id 108jAePKK4R3BVYBbYJZ32JWUwxeMg20K"
      ]
    },
    {
      "cell_type": "code",
      "execution_count": 4,
      "metadata": {
        "deletable": false,
        "editable": false,
        "id": "Pfd-nYKij5yY",
        "tags": [
          "graded"
        ],
        "colab": {
          "base_uri": "https://localhost:8080/"
        },
        "outputId": "fe0b3176-a1b8-41a8-9e44-144fa4021b3b"
      },
      "outputs": [
        {
          "output_type": "stream",
          "name": "stdout",
          "text": [
            "There are 2159 lines of sonnets\n",
            "\n",
            "The first 5 lines look like this:\n",
            "\n",
            "from fairest creatures we desire increase,\n",
            "that thereby beauty's rose might never die,\n",
            "but as the riper should by time decease,\n",
            "his tender heir might bear his memory:\n",
            "but thou, contracted to thine own bright eyes,\n"
          ]
        }
      ],
      "source": [
        "# grader-required-cell\n",
        "\n",
        "# Define path for file with sonnets\n",
        "SONNETS_FILE = './sonnets.txt'\n",
        "\n",
        "# Read the data\n",
        "with open('./sonnets.txt') as f:\n",
        "    data = f.read()\n",
        "\n",
        "# Convert to lower case and save as a list\n",
        "corpus = data.lower().split(\"\\n\")\n",
        "\n",
        "print(f\"There are {len(corpus)} lines of sonnets\\n\")\n",
        "print(f\"The first 5 lines look like this:\\n\")\n",
        "for i in range(5):\n",
        "  print(corpus[i])"
      ]
    },
    {
      "cell_type": "markdown",
      "metadata": {
        "id": "imB15zrSNhA1"
      },
      "source": [
        "## Tokenizing the text\n",
        "\n",
        "Now fit the Tokenizer to the corpus and save the total number of words."
      ]
    },
    {
      "cell_type": "code",
      "execution_count": 5,
      "metadata": {
        "deletable": false,
        "editable": false,
        "id": "AAhM_qAZk0o5",
        "tags": [
          "graded"
        ]
      },
      "outputs": [],
      "source": [
        "# grader-required-cell\n",
        "\n",
        "tokenizer = Tokenizer()\n",
        "tokenizer.fit_on_texts(corpus)\n",
        "total_words = len(tokenizer.word_index) + 1"
      ]
    },
    {
      "cell_type": "markdown",
      "metadata": {
        "id": "77-0sA46OETa"
      },
      "source": [
        "When converting the text into sequences you can use the `texts_to_sequences` method as you have done throughout this course.\n",
        "\n",
        "In the next graded function you will need to process this corpus one line at a time. Given this, it is important to keep in mind that the way you are feeding the data unto this method affects the result. Check the following example to make this clearer.\n",
        "\n",
        "The first example of the corpus is a string and looks like this:"
      ]
    },
    {
      "cell_type": "code",
      "execution_count": 6,
      "metadata": {
        "deletable": false,
        "editable": false,
        "id": "tqhPxdeXlfjh",
        "tags": [
          "graded"
        ],
        "colab": {
          "base_uri": "https://localhost:8080/",
          "height": 35
        },
        "outputId": "a9e5b4c1-a5fb-477a-e3f0-54ed6e1ec831"
      },
      "outputs": [
        {
          "output_type": "execute_result",
          "data": {
            "text/plain": [
              "'from fairest creatures we desire increase,'"
            ],
            "application/vnd.google.colaboratory.intrinsic+json": {
              "type": "string"
            }
          },
          "metadata": {},
          "execution_count": 6
        }
      ],
      "source": [
        "# grader-required-cell\n",
        "\n",
        "corpus[0]"
      ]
    },
    {
      "cell_type": "markdown",
      "metadata": {
        "id": "XFMP4z11O3os"
      },
      "source": [
        "If you pass this text directly into the `texts_to_sequences` method you will get an unexpected result:"
      ]
    },
    {
      "cell_type": "code",
      "execution_count": 7,
      "metadata": {
        "deletable": false,
        "editable": false,
        "id": "EMSEhmbzNZCE",
        "tags": [
          "graded"
        ],
        "colab": {
          "base_uri": "https://localhost:8080/"
        },
        "outputId": "944c6ccd-fad8-46ed-e138-bd796002e8bc"
      },
      "outputs": [
        {
          "output_type": "execute_result",
          "data": {
            "text/plain": [
              "[[],\n",
              " [],\n",
              " [58],\n",
              " [],\n",
              " [],\n",
              " [],\n",
              " [17],\n",
              " [6],\n",
              " [],\n",
              " [],\n",
              " [],\n",
              " [],\n",
              " [],\n",
              " [],\n",
              " [],\n",
              " [],\n",
              " [17],\n",
              " [],\n",
              " [],\n",
              " [],\n",
              " [],\n",
              " [],\n",
              " [],\n",
              " [],\n",
              " [],\n",
              " [],\n",
              " [],\n",
              " [],\n",
              " [],\n",
              " [6],\n",
              " [],\n",
              " [],\n",
              " [],\n",
              " [6],\n",
              " [],\n",
              " [],\n",
              " [],\n",
              " [],\n",
              " [17],\n",
              " [],\n",
              " [],\n",
              " []]"
            ]
          },
          "metadata": {},
          "execution_count": 7
        }
      ],
      "source": [
        "# grader-required-cell\n",
        "\n",
        "tokenizer.texts_to_sequences(corpus[0])"
      ]
    },
    {
      "cell_type": "markdown",
      "metadata": {
        "id": "pPZmZtpEPEeI"
      },
      "source": [
        "This happened because `texts_to_sequences` expects a list and you are providing a string. However a string is still and `iterable` in Python so you will get the word index of every character in the string.\n",
        "\n",
        "Instead you need to place the example whithin a list before passing it to the method:"
      ]
    },
    {
      "cell_type": "code",
      "execution_count": 8,
      "metadata": {
        "deletable": false,
        "editable": false,
        "id": "Qmgo-vXhk4nd",
        "tags": [
          "graded"
        ],
        "colab": {
          "base_uri": "https://localhost:8080/"
        },
        "outputId": "2a87a139-f1a3-4d98-f6fa-6181eb2e7eb4"
      },
      "outputs": [
        {
          "output_type": "execute_result",
          "data": {
            "text/plain": [
              "[[34, 417, 877, 166, 213, 517]]"
            ]
          },
          "metadata": {},
          "execution_count": 8
        }
      ],
      "source": [
        "# grader-required-cell\n",
        "\n",
        "tokenizer.texts_to_sequences([corpus[0]])"
      ]
    },
    {
      "cell_type": "markdown",
      "metadata": {
        "id": "0DU7wK-eQ5dc"
      },
      "source": [
        "Notice that you received the sequence wrapped inside a list so in order to get only the desired sequence you need to explicitly get the first item in the list like this:"
      ]
    },
    {
      "cell_type": "code",
      "execution_count": 9,
      "metadata": {
        "deletable": false,
        "editable": false,
        "id": "kpTy8WmIQ57P",
        "tags": [
          "graded"
        ],
        "colab": {
          "base_uri": "https://localhost:8080/"
        },
        "outputId": "bc70048c-3e0e-43fa-b7a1-e70d40dd4652"
      },
      "outputs": [
        {
          "output_type": "execute_result",
          "data": {
            "text/plain": [
              "[34, 417, 877, 166, 213, 517]"
            ]
          },
          "metadata": {},
          "execution_count": 9
        }
      ],
      "source": [
        "# grader-required-cell\n",
        "\n",
        "tokenizer.texts_to_sequences([corpus[0]])[0]"
      ]
    },
    {
      "cell_type": "markdown",
      "metadata": {
        "id": "-oqy9KjXRJ9A"
      },
      "source": [
        "## Generating n_grams\n",
        "\n",
        "Now complete the `n_gram_seqs` function below. This function receives the fitted tokenizer and the corpus (which is a list of strings) and should return a list containing the `n_gram` sequences for each line in the corpus:"
      ]
    },
    {
      "cell_type": "code",
      "execution_count": 10,
      "metadata": {
        "deletable": false,
        "id": "iy4baJMDl6kj",
        "tags": [
          "graded"
        ]
      },
      "outputs": [],
      "source": [
        "# grader-required-cell\n",
        "# put_sequences = []\n",
        "\n",
        "# # Loop over every line\n",
        "# for line in corpus:\n",
        "\n",
        "# \t# Tokenize the current line\n",
        "# \ttoken_list = tokenizer.texts_to_sequences([line])[0]\n",
        "\n",
        "# \t# Loop over the line several times to generate the subphrases\n",
        "# \tfor i in range(1, len(token_list)):\n",
        "\n",
        "# \t\t# Generate the subphrase\n",
        "# \t\tn_gram_sequence = token_list[:i+1]\n",
        "\n",
        "# \t\t# Append the subphrase to the sequences list\n",
        "# \t\tinput_sequences.append(n_gram_sequence)\n",
        "\n",
        "# # Get the length of the longest line\n",
        "# max_sequence_len = max([len(x) for x in input_sequences])\n",
        "\n",
        "# # Pad all sequences\n",
        "# input_sequences = np.array(pad_sequences(input_sequences, maxlen=max_sequence_len, padding='pre'))\n",
        "\n",
        "# # Create inputs and label by splitting the last token in the subphrases\n",
        "# xs, labels = input_sequences[:,:-1],input_sequences[:,-1]\n",
        "\n",
        "# # Convert the label into one-hot arrays\n",
        "# ys = tf.keras.utils.to_categorical(labels, num_classes=total_words)\n",
        "\n",
        "# GRADED FUNCTION: n_gram_seqs\n",
        "def n_gram_seqs(corpus, tokenizer):\n",
        "    \"\"\"\n",
        "    Generates a list of n-gram sequences\n",
        "\n",
        "    Args:\n",
        "        corpus (list of string): lines of texts to generate n-grams for\n",
        "        tokenizer (object): an instance of the Tokenizer class containing the word-index dictionary\n",
        "\n",
        "    Returns:\n",
        "        input_sequences (list of int): the n-gram sequences for each line in the corpus\n",
        "    \"\"\"\n",
        "    input_sequences = []\n",
        "\n",
        "    for line in corpus:\n",
        "      token_list = tokenizer.texts_to_sequences([line])[0]\n",
        "\n",
        "      for i in range(1, len(token_list)):\n",
        "        n_gram_sequence = token_list[:i+1]\n",
        "\n",
        "        input_sequences.append(n_gram_sequence)\n",
        "\n",
        "    ### START CODE HERE\n",
        "\n",
        "    ### END CODE HERE\n",
        "\n",
        "    return input_sequences"
      ]
    },
    {
      "cell_type": "code",
      "execution_count": 11,
      "metadata": {
        "deletable": false,
        "editable": false,
        "id": "DlKqW2pfM7G3",
        "tags": [
          "graded"
        ],
        "colab": {
          "base_uri": "https://localhost:8080/"
        },
        "outputId": "4be27a1e-62de-440d-c3a2-610788a606ee"
      },
      "outputs": [
        {
          "output_type": "stream",
          "name": "stdout",
          "text": [
            "n_gram sequences for first example look like this:\n",
            "\n"
          ]
        },
        {
          "output_type": "execute_result",
          "data": {
            "text/plain": [
              "[[34, 417],\n",
              " [34, 417, 877],\n",
              " [34, 417, 877, 166],\n",
              " [34, 417, 877, 166, 213],\n",
              " [34, 417, 877, 166, 213, 517]]"
            ]
          },
          "metadata": {},
          "execution_count": 11
        }
      ],
      "source": [
        "# grader-required-cell\n",
        "\n",
        "# Test your function with one example\n",
        "first_example_sequence = n_gram_seqs([corpus[0]], tokenizer)\n",
        "\n",
        "print(\"n_gram sequences for first example look like this:\\n\")\n",
        "first_example_sequence"
      ]
    },
    {
      "cell_type": "markdown",
      "metadata": {
        "id": "0HL8Ug6UU0Jt"
      },
      "source": [
        "**Expected Output:**\n",
        "\n",
        "```\n",
        "n_gram sequences for first example look like this:\n",
        "\n",
        "[[34, 417],\n",
        " [34, 417, 877],\n",
        " [34, 417, 877, 166],\n",
        " [34, 417, 877, 166, 213],\n",
        " [34, 417, 877, 166, 213, 517]]\n",
        "```"
      ]
    },
    {
      "cell_type": "code",
      "execution_count": 12,
      "metadata": {
        "deletable": false,
        "editable": false,
        "id": "wtPpCcBjNc4c",
        "tags": [
          "graded"
        ],
        "colab": {
          "base_uri": "https://localhost:8080/"
        },
        "outputId": "a8ff5461-f6d0-4c24-a156-ce23354f73a5"
      },
      "outputs": [
        {
          "output_type": "stream",
          "name": "stdout",
          "text": [
            "n_gram sequences for next 3 examples look like this:\n",
            "\n"
          ]
        },
        {
          "output_type": "execute_result",
          "data": {
            "text/plain": [
              "[[8, 878],\n",
              " [8, 878, 134],\n",
              " [8, 878, 134, 351],\n",
              " [8, 878, 134, 351, 102],\n",
              " [8, 878, 134, 351, 102, 156],\n",
              " [8, 878, 134, 351, 102, 156, 199],\n",
              " [16, 22],\n",
              " [16, 22, 2],\n",
              " [16, 22, 2, 879],\n",
              " [16, 22, 2, 879, 61],\n",
              " [16, 22, 2, 879, 61, 30],\n",
              " [16, 22, 2, 879, 61, 30, 48],\n",
              " [16, 22, 2, 879, 61, 30, 48, 634],\n",
              " [25, 311],\n",
              " [25, 311, 635],\n",
              " [25, 311, 635, 102],\n",
              " [25, 311, 635, 102, 200],\n",
              " [25, 311, 635, 102, 200, 25],\n",
              " [25, 311, 635, 102, 200, 25, 278]]"
            ]
          },
          "metadata": {},
          "execution_count": 12
        }
      ],
      "source": [
        "# grader-required-cell\n",
        "\n",
        "# Test your function with a bigger corpus\n",
        "next_3_examples_sequence = n_gram_seqs(corpus[1:4], tokenizer)\n",
        "\n",
        "print(\"n_gram sequences for next 3 examples look like this:\\n\")\n",
        "next_3_examples_sequence"
      ]
    },
    {
      "cell_type": "markdown",
      "metadata": {
        "id": "EIzecMczU9UB"
      },
      "source": [
        "**Expected Output:**\n",
        "\n",
        "```\n",
        "n_gram sequences for next 3 examples look like this:\n",
        "\n",
        "[[8, 878],\n",
        " [8, 878, 134],\n",
        " [8, 878, 134, 351],\n",
        " [8, 878, 134, 351, 102],\n",
        " [8, 878, 134, 351, 102, 156],\n",
        " [8, 878, 134, 351, 102, 156, 199],\n",
        " [16, 22],\n",
        " [16, 22, 2],\n",
        " [16, 22, 2, 879],\n",
        " [16, 22, 2, 879, 61],\n",
        " [16, 22, 2, 879, 61, 30],\n",
        " [16, 22, 2, 879, 61, 30, 48],\n",
        " [16, 22, 2, 879, 61, 30, 48, 634],\n",
        " [25, 311],\n",
        " [25, 311, 635],\n",
        " [25, 311, 635, 102],\n",
        " [25, 311, 635, 102, 200],\n",
        " [25, 311, 635, 102, 200, 25],\n",
        " [25, 311, 635, 102, 200, 25, 278]]\n",
        "```"
      ]
    },
    {
      "cell_type": "markdown",
      "metadata": {
        "id": "dx3V_RjFWQSu"
      },
      "source": [
        "Apply the `n_gram_seqs` transformation to the whole corpus and save the maximum sequence length to use it later:"
      ]
    },
    {
      "cell_type": "code",
      "execution_count": 13,
      "metadata": {
        "deletable": false,
        "editable": false,
        "id": "laMwiRUpmuSd",
        "tags": [
          "graded"
        ],
        "colab": {
          "base_uri": "https://localhost:8080/"
        },
        "outputId": "49c7a141-22f4-404d-f921-7c41062402cf"
      },
      "outputs": [
        {
          "output_type": "stream",
          "name": "stdout",
          "text": [
            "n_grams of input_sequences have length: 15462\n",
            "maximum length of sequences is: 11\n"
          ]
        }
      ],
      "source": [
        "# grader-required-cell\n",
        "\n",
        "# Apply the n_gram_seqs transformation to the whole corpus\n",
        "input_sequences = n_gram_seqs(corpus, tokenizer)\n",
        "\n",
        "# Save max length\n",
        "max_sequence_len = max([len(x) for x in input_sequences])\n",
        "\n",
        "print(f\"n_grams of input_sequences have length: {len(input_sequences)}\")\n",
        "print(f\"maximum length of sequences is: {max_sequence_len}\")"
      ]
    },
    {
      "cell_type": "markdown",
      "metadata": {
        "id": "2OciMdmEdE9L"
      },
      "source": [
        "**Expected Output:**\n",
        "\n",
        "```\n",
        "n_grams of input_sequences have length: 15462\n",
        "maximum length of sequences is: 11\n",
        "```"
      ]
    },
    {
      "cell_type": "markdown",
      "metadata": {
        "id": "zHY7HroqWq12"
      },
      "source": [
        "## Add padding to the sequences\n",
        "\n",
        "Now code the `pad_seqs` function which will pad any given sequences to the desired maximum length. Notice that this function receives a list of sequences and should return a numpy array with the padded sequences:"
      ]
    },
    {
      "cell_type": "code",
      "execution_count": 14,
      "metadata": {
        "cellView": "code",
        "deletable": false,
        "id": "WW1-qAZaWOhC",
        "tags": [
          "graded"
        ]
      },
      "outputs": [],
      "source": [
        "# grader-required-cell\n",
        "\n",
        "# GRADED FUNCTION: pad_seqs\n",
        "def pad_seqs(input_sequences, maxlen):\n",
        "    \"\"\"\n",
        "    Pads tokenized sequences to the same length\n",
        "\n",
        "    Args:\n",
        "        input_sequences (list of int): tokenized sequences to pad\n",
        "        maxlen (int): maximum length of the token sequences\n",
        "\n",
        "    Returns:\n",
        "        padded_sequences (array of int): tokenized sequences padded to the same length\n",
        "    \"\"\"\n",
        "    ### START CODE HERE\n",
        "    padded_sequences = pad_sequences(input_sequences, maxlen=maxlen, padding='pre')\n",
        "\n",
        "\n",
        "    return padded_sequences\n",
        "    ### END CODE HERE"
      ]
    },
    {
      "cell_type": "code",
      "execution_count": 15,
      "metadata": {
        "deletable": false,
        "editable": false,
        "id": "IqVQ0pb3YHLr",
        "tags": [
          "graded"
        ],
        "colab": {
          "base_uri": "https://localhost:8080/"
        },
        "outputId": "52554f7a-63f5-4413-b003-89aa645be1d8"
      },
      "outputs": [
        {
          "output_type": "execute_result",
          "data": {
            "text/plain": [
              "array([[  0,   0,   0,   0,  34, 417],\n",
              "       [  0,   0,   0,  34, 417, 877],\n",
              "       [  0,   0,  34, 417, 877, 166],\n",
              "       [  0,  34, 417, 877, 166, 213],\n",
              "       [ 34, 417, 877, 166, 213, 517]], dtype=int32)"
            ]
          },
          "metadata": {},
          "execution_count": 15
        }
      ],
      "source": [
        "# grader-required-cell\n",
        "\n",
        "# Test your function with the n_grams_seq of the first example\n",
        "first_padded_seq = pad_seqs(first_example_sequence, max([len(x) for x in first_example_sequence]))\n",
        "first_padded_seq"
      ]
    },
    {
      "cell_type": "markdown",
      "metadata": {
        "id": "Re_avDznXRnU"
      },
      "source": [
        "**Expected Output:**\n",
        "\n",
        "```\n",
        "array([[  0,   0,   0,   0,  34, 417],\n",
        "       [  0,   0,   0,  34, 417, 877],\n",
        "       [  0,   0,  34, 417, 877, 166],\n",
        "       [  0,  34, 417, 877, 166, 213],\n",
        "       [ 34, 417, 877, 166, 213, 517]], dtype=int32)\n",
        "```"
      ]
    },
    {
      "cell_type": "code",
      "execution_count": 16,
      "metadata": {
        "deletable": false,
        "editable": false,
        "id": "j56_UCOBYzZt",
        "tags": [
          "graded"
        ],
        "colab": {
          "base_uri": "https://localhost:8080/"
        },
        "outputId": "dd161ce2-f431-4510-bea9-f772206c78fb"
      },
      "outputs": [
        {
          "output_type": "execute_result",
          "data": {
            "text/plain": [
              "array([[  0,   0,   0,   0,   0,   0,   8, 878],\n",
              "       [  0,   0,   0,   0,   0,   8, 878, 134],\n",
              "       [  0,   0,   0,   0,   8, 878, 134, 351],\n",
              "       [  0,   0,   0,   8, 878, 134, 351, 102],\n",
              "       [  0,   0,   8, 878, 134, 351, 102, 156],\n",
              "       [  0,   8, 878, 134, 351, 102, 156, 199],\n",
              "       [  0,   0,   0,   0,   0,   0,  16,  22],\n",
              "       [  0,   0,   0,   0,   0,  16,  22,   2],\n",
              "       [  0,   0,   0,   0,  16,  22,   2, 879],\n",
              "       [  0,   0,   0,  16,  22,   2, 879,  61],\n",
              "       [  0,   0,  16,  22,   2, 879,  61,  30],\n",
              "       [  0,  16,  22,   2, 879,  61,  30,  48],\n",
              "       [ 16,  22,   2, 879,  61,  30,  48, 634],\n",
              "       [  0,   0,   0,   0,   0,   0,  25, 311],\n",
              "       [  0,   0,   0,   0,   0,  25, 311, 635],\n",
              "       [  0,   0,   0,   0,  25, 311, 635, 102],\n",
              "       [  0,   0,   0,  25, 311, 635, 102, 200],\n",
              "       [  0,   0,  25, 311, 635, 102, 200,  25],\n",
              "       [  0,  25, 311, 635, 102, 200,  25, 278]], dtype=int32)"
            ]
          },
          "metadata": {},
          "execution_count": 16
        }
      ],
      "source": [
        "# grader-required-cell\n",
        "\n",
        "# Test your function with the n_grams_seq of the next 3 examples\n",
        "next_3_padded_seq = pad_seqs(next_3_examples_sequence, max([len(s) for s in next_3_examples_sequence]))\n",
        "next_3_padded_seq"
      ]
    },
    {
      "cell_type": "markdown",
      "metadata": {
        "id": "3rmcDluOXcIU"
      },
      "source": [
        "**Expected Output:**\n",
        "\n",
        "```\n",
        "array([[  0,   0,   0,   0,   0,   0,   8, 878],\n",
        "       [  0,   0,   0,   0,   0,   8, 878, 134],\n",
        "       [  0,   0,   0,   0,   8, 878, 134, 351],\n",
        "       [  0,   0,   0,   8, 878, 134, 351, 102],\n",
        "       [  0,   0,   8, 878, 134, 351, 102, 156],\n",
        "       [  0,   8, 878, 134, 351, 102, 156, 199],\n",
        "       [  0,   0,   0,   0,   0,   0,  16,  22],\n",
        "       [  0,   0,   0,   0,   0,  16,  22,   2],\n",
        "       [  0,   0,   0,   0,  16,  22,   2, 879],\n",
        "       [  0,   0,   0,  16,  22,   2, 879,  61],\n",
        "       [  0,   0,  16,  22,   2, 879,  61,  30],\n",
        "       [  0,  16,  22,   2, 879,  61,  30,  48],\n",
        "       [ 16,  22,   2, 879,  61,  30,  48, 634],\n",
        "       [  0,   0,   0,   0,   0,   0,  25, 311],\n",
        "       [  0,   0,   0,   0,   0,  25, 311, 635],\n",
        "       [  0,   0,   0,   0,  25, 311, 635, 102],\n",
        "       [  0,   0,   0,  25, 311, 635, 102, 200],\n",
        "       [  0,   0,  25, 311, 635, 102, 200,  25],\n",
        "       [  0,  25, 311, 635, 102, 200,  25, 278]], dtype=int32)\n",
        "```"
      ]
    },
    {
      "cell_type": "code",
      "execution_count": 17,
      "metadata": {
        "deletable": false,
        "editable": false,
        "id": "rgK-Q_micEYA",
        "tags": [
          "graded"
        ],
        "colab": {
          "base_uri": "https://localhost:8080/"
        },
        "outputId": "226d2133-9d44-4385-f7d4-6dbcdf44c009"
      },
      "outputs": [
        {
          "output_type": "stream",
          "name": "stdout",
          "text": [
            "padded corpus has shape: (15462, 11)\n"
          ]
        }
      ],
      "source": [
        "# grader-required-cell\n",
        "\n",
        "# Pad the whole corpus\n",
        "input_sequences = pad_seqs(input_sequences, max_sequence_len)\n",
        "\n",
        "print(f\"padded corpus has shape: {input_sequences.shape}\")"
      ]
    },
    {
      "cell_type": "markdown",
      "metadata": {
        "id": "59RD1YYNc7CW"
      },
      "source": [
        "**Expected Output:**\n",
        "\n",
        "```\n",
        "padded corpus has shape: (15462, 11)\n",
        "```"
      ]
    },
    {
      "cell_type": "markdown",
      "metadata": {
        "id": "ZbOidyPrXxf7"
      },
      "source": [
        "## Split the data into features and labels\n",
        "\n",
        "Before feeding the data into the neural network you should split it into features and labels. In this case the features will be the padded n_gram sequences with the last word removed from them and the labels will be the removed word.\n",
        "\n",
        "Complete the `features_and_labels` function below. This function expects the padded n_gram sequences as input and should return a tuple containing the features and the one hot encoded labels.\n",
        "\n",
        "Notice that the function also receives the total of words in the corpus, this parameter will be very important when one hot enconding the labels since every word in the corpus will be a label at least once. If you need a refresh of how the `to_categorical` function works take a look at the [docs](https://www.tensorflow.org/api_docs/python/tf/keras/utils/to_categorical)"
      ]
    },
    {
      "cell_type": "code",
      "execution_count": 18,
      "metadata": {
        "cellView": "code",
        "deletable": false,
        "id": "9WGGbYdnZdmJ",
        "tags": [
          "graded"
        ]
      },
      "outputs": [],
      "source": [
        "# grader-required-cell\n",
        "\n",
        "# GRADED FUNCTION: features_and_labels\n",
        "def features_and_labels(input_sequences, total_words):\n",
        "    \"\"\"\n",
        "    Generates features and labels from n-grams\n",
        "\n",
        "    Args:\n",
        "        input_sequences (list of int): sequences to split features and labels from\n",
        "        total_words (int): vocabulary size\n",
        "\n",
        "    Returns:\n",
        "        features, one_hot_labels (array of int, array of int): arrays of features and one-hot encoded labels\n",
        "    \"\"\"\n",
        "    ### START CODE HERE\n",
        "    features = input_sequences[:, :-1]\n",
        "    labels = input_sequences[:, -1]\n",
        "    one_hot_labels  = to_categorical(labels)\n",
        "    ### END CODE HERE\n",
        "\n",
        "    return features, one_hot_labels"
      ]
    },
    {
      "cell_type": "code",
      "execution_count": 19,
      "metadata": {
        "deletable": false,
        "editable": false,
        "id": "23DolaBRaIAZ",
        "tags": [
          "graded"
        ],
        "colab": {
          "base_uri": "https://localhost:8080/"
        },
        "outputId": "f7792b26-6e70-46aa-f112-2ce7736aa34c"
      },
      "outputs": [
        {
          "output_type": "stream",
          "name": "stdout",
          "text": [
            "labels have shape: (5, 878)\n",
            "\n",
            "features look like this:\n",
            "\n"
          ]
        },
        {
          "output_type": "execute_result",
          "data": {
            "text/plain": [
              "array([[  0,   0,   0,   0,  34],\n",
              "       [  0,   0,   0,  34, 417],\n",
              "       [  0,   0,  34, 417, 877],\n",
              "       [  0,  34, 417, 877, 166],\n",
              "       [ 34, 417, 877, 166, 213]], dtype=int32)"
            ]
          },
          "metadata": {},
          "execution_count": 19
        }
      ],
      "source": [
        "# grader-required-cell\n",
        "\n",
        "# Test your function with the padded n_grams_seq of the first example\n",
        "first_features, first_labels = features_and_labels(first_padded_seq, total_words)\n",
        "\n",
        "print(f\"labels have shape: {first_labels.shape}\")\n",
        "print(\"\\nfeatures look like this:\\n\")\n",
        "first_features"
      ]
    },
    {
      "cell_type": "markdown",
      "metadata": {
        "id": "7t4yAx2UaQ43"
      },
      "source": [
        "**Expected Output:**\n",
        "\n",
        "```\n",
        "labels have shape: (5, 3211)\n",
        "\n",
        "features look like this:\n",
        "\n",
        "array([[  0,   0,   0,   0,  34],\n",
        "       [  0,   0,   0,  34, 417],\n",
        "       [  0,   0,  34, 417, 877],\n",
        "       [  0,  34, 417, 877, 166],\n",
        "       [ 34, 417, 877, 166, 213]], dtype=int32)\n",
        "```"
      ]
    },
    {
      "cell_type": "code",
      "execution_count": 20,
      "metadata": {
        "deletable": false,
        "editable": false,
        "id": "GRTuLEt3bRKa",
        "tags": [
          "graded"
        ],
        "colab": {
          "base_uri": "https://localhost:8080/"
        },
        "outputId": "46d16229-75c3-4402-9a2b-358cc5421753"
      },
      "outputs": [
        {
          "output_type": "stream",
          "name": "stdout",
          "text": [
            "features have shape: (15462, 10)\n",
            "labels have shape: (15462, 3211)\n"
          ]
        }
      ],
      "source": [
        "# grader-required-cell\n",
        "\n",
        "# Split the whole corpus\n",
        "features, labels = features_and_labels(input_sequences, total_words)\n",
        "\n",
        "print(f\"features have shape: {features.shape}\")\n",
        "print(f\"labels have shape: {labels.shape}\")"
      ]
    },
    {
      "cell_type": "markdown",
      "metadata": {
        "id": "xXSMK_HpdLns"
      },
      "source": [
        "**Expected Output:**\n",
        "\n",
        "```\n",
        "features have shape: (15462, 10)\n",
        "labels have shape: (15462, 3211)\n",
        "```"
      ]
    },
    {
      "cell_type": "markdown",
      "metadata": {
        "id": "ltxaOCE_aU6J"
      },
      "source": [
        "## Create the model\n",
        "\n",
        "Now you should define a model architecture capable of achieving an accuracy of at least 80%.\n",
        "\n",
        "Some hints to help you in this task:\n",
        "\n",
        "- An appropriate `output_dim` for the first layer (Embedding) is 100, this is already provided for you.\n",
        "- A Bidirectional LSTM is helpful for this particular problem.\n",
        "- The last layer should have the same number of units as the total number of words in the corpus and a softmax activation function.\n",
        "- This problem can be solved with only two layers (excluding the Embedding) so try out small architectures first."
      ]
    },
    {
      "cell_type": "code",
      "execution_count": 21,
      "metadata": {
        "cellView": "code",
        "deletable": false,
        "id": "XrE6kpJFfvRY",
        "tags": [
          "graded"
        ]
      },
      "outputs": [],
      "source": [
        "# grader-required-cell\n",
        "\n",
        "# GRADED FUNCTION: create_model\n",
        "def create_model(total_words, max_sequence_len):\n",
        "    \"\"\"\n",
        "    Creates a text generator model\n",
        "\n",
        "    Args:\n",
        "        total_words (int): size of the vocabulary for the Embedding layer input\n",
        "        max_sequence_len (int): length of the input sequences\n",
        "\n",
        "    Returns:\n",
        "        model (tf.keras Model): the text generator model\n",
        "    \"\"\"\n",
        "    model = Sequential()\n",
        "    ### START CODE HERE\n",
        "    model.add(Embedding(total_words, 100, input_length=max_sequence_len-1))\n",
        "    model.add(Bidirectional(LSTM(30))),\n",
        "\n",
        "    model.add(Dense(total_words, activation='softmax'))\n",
        "\n",
        "    # Compile the model\n",
        "    model.compile(loss=\"categorical_crossentropy\",\n",
        "                  optimizer='adam',\n",
        "                  metrics=['accuracy'])\n",
        "\n",
        "    ### END CODE HERE\n",
        "\n",
        "    return model"
      ]
    },
    {
      "cell_type": "code",
      "execution_count": 22,
      "metadata": {
        "id": "0IpX_Gu_gISk",
        "tags": [],
        "colab": {
          "base_uri": "https://localhost:8080/"
        },
        "outputId": "f33c0e76-751e-4f0b-8e5a-85f845964e0e"
      },
      "outputs": [
        {
          "output_type": "stream",
          "name": "stdout",
          "text": [
            "Epoch 1/250\n",
            "484/484 [==============================] - 23s 39ms/step - loss: 6.9031 - accuracy: 0.0226\n",
            "Epoch 2/250\n",
            "484/484 [==============================] - 5s 11ms/step - loss: 6.4912 - accuracy: 0.0232\n",
            "Epoch 3/250\n",
            "484/484 [==============================] - 5s 9ms/step - loss: 6.3903 - accuracy: 0.0319\n",
            "Epoch 4/250\n",
            "484/484 [==============================] - 4s 9ms/step - loss: 6.2920 - accuracy: 0.0381\n",
            "Epoch 5/250\n",
            "484/484 [==============================] - 4s 9ms/step - loss: 6.1790 - accuracy: 0.0414\n",
            "Epoch 6/250\n",
            "484/484 [==============================] - 5s 10ms/step - loss: 6.0600 - accuracy: 0.0439\n",
            "Epoch 7/250\n",
            "484/484 [==============================] - 4s 8ms/step - loss: 5.9402 - accuracy: 0.0482\n",
            "Epoch 8/250\n",
            "484/484 [==============================] - 4s 8ms/step - loss: 5.8232 - accuracy: 0.0544\n",
            "Epoch 9/250\n",
            "484/484 [==============================] - 5s 9ms/step - loss: 5.7055 - accuracy: 0.0581\n",
            "Epoch 10/250\n",
            "484/484 [==============================] - 4s 9ms/step - loss: 5.5868 - accuracy: 0.0635\n",
            "Epoch 11/250\n",
            "484/484 [==============================] - 5s 9ms/step - loss: 5.4612 - accuracy: 0.0730\n",
            "Epoch 12/250\n",
            "484/484 [==============================] - 5s 10ms/step - loss: 5.3359 - accuracy: 0.0810\n",
            "Epoch 13/250\n",
            "484/484 [==============================] - 4s 8ms/step - loss: 5.2090 - accuracy: 0.0902\n",
            "Epoch 14/250\n",
            "484/484 [==============================] - 5s 9ms/step - loss: 5.0823 - accuracy: 0.0984\n",
            "Epoch 15/250\n",
            "484/484 [==============================] - 4s 8ms/step - loss: 4.9551 - accuracy: 0.1079\n",
            "Epoch 16/250\n",
            "484/484 [==============================] - 4s 8ms/step - loss: 4.8366 - accuracy: 0.1155\n",
            "Epoch 17/250\n",
            "484/484 [==============================] - 5s 9ms/step - loss: 4.7250 - accuracy: 0.1252\n",
            "Epoch 18/250\n",
            "484/484 [==============================] - 4s 8ms/step - loss: 4.6114 - accuracy: 0.1370\n",
            "Epoch 19/250\n",
            "484/484 [==============================] - 4s 9ms/step - loss: 4.5053 - accuracy: 0.1444\n",
            "Epoch 20/250\n",
            "484/484 [==============================] - 5s 10ms/step - loss: 4.3928 - accuracy: 0.1602\n",
            "Epoch 21/250\n",
            "484/484 [==============================] - 4s 8ms/step - loss: 4.2872 - accuracy: 0.1702\n",
            "Epoch 22/250\n",
            "484/484 [==============================] - 4s 8ms/step - loss: 4.1843 - accuracy: 0.1870\n",
            "Epoch 23/250\n",
            "484/484 [==============================] - 4s 9ms/step - loss: 4.0820 - accuracy: 0.2003\n",
            "Epoch 24/250\n",
            "484/484 [==============================] - 4s 8ms/step - loss: 3.9819 - accuracy: 0.2145\n",
            "Epoch 25/250\n",
            "484/484 [==============================] - 4s 8ms/step - loss: 3.8823 - accuracy: 0.2324\n",
            "Epoch 26/250\n",
            "484/484 [==============================] - 4s 8ms/step - loss: 3.7885 - accuracy: 0.2496\n",
            "Epoch 27/250\n",
            "484/484 [==============================] - 4s 8ms/step - loss: 3.6980 - accuracy: 0.2637\n",
            "Epoch 28/250\n",
            "484/484 [==============================] - 4s 9ms/step - loss: 3.6026 - accuracy: 0.2808\n",
            "Epoch 29/250\n",
            "484/484 [==============================] - 4s 8ms/step - loss: 3.5187 - accuracy: 0.2972\n",
            "Epoch 30/250\n",
            "484/484 [==============================] - 4s 8ms/step - loss: 3.4356 - accuracy: 0.3116\n",
            "Epoch 31/250\n",
            "484/484 [==============================] - 4s 9ms/step - loss: 3.3552 - accuracy: 0.3256\n",
            "Epoch 32/250\n",
            "484/484 [==============================] - 4s 8ms/step - loss: 3.2773 - accuracy: 0.3392\n",
            "Epoch 33/250\n",
            "484/484 [==============================] - 4s 8ms/step - loss: 3.1994 - accuracy: 0.3537\n",
            "Epoch 34/250\n",
            "484/484 [==============================] - 4s 9ms/step - loss: 3.1272 - accuracy: 0.3684\n",
            "Epoch 35/250\n",
            "484/484 [==============================] - 4s 9ms/step - loss: 3.0598 - accuracy: 0.3772\n",
            "Epoch 36/250\n",
            "484/484 [==============================] - 4s 8ms/step - loss: 2.9893 - accuracy: 0.3935\n",
            "Epoch 37/250\n",
            "484/484 [==============================] - 5s 9ms/step - loss: 2.9265 - accuracy: 0.4063\n",
            "Epoch 38/250\n",
            "484/484 [==============================] - 4s 8ms/step - loss: 2.8682 - accuracy: 0.4183\n",
            "Epoch 39/250\n",
            "484/484 [==============================] - 4s 8ms/step - loss: 2.7985 - accuracy: 0.4307\n",
            "Epoch 40/250\n",
            "484/484 [==============================] - 4s 9ms/step - loss: 2.7433 - accuracy: 0.4409\n",
            "Epoch 41/250\n",
            "484/484 [==============================] - 4s 8ms/step - loss: 2.6928 - accuracy: 0.4493\n",
            "Epoch 42/250\n",
            "484/484 [==============================] - 4s 8ms/step - loss: 2.6343 - accuracy: 0.4612\n",
            "Epoch 43/250\n",
            "484/484 [==============================] - 4s 9ms/step - loss: 2.5792 - accuracy: 0.4716\n",
            "Epoch 44/250\n",
            "484/484 [==============================] - 4s 9ms/step - loss: 2.5326 - accuracy: 0.4778\n",
            "Epoch 45/250\n",
            "484/484 [==============================] - 4s 8ms/step - loss: 2.4839 - accuracy: 0.4887\n",
            "Epoch 46/250\n",
            "484/484 [==============================] - 4s 9ms/step - loss: 2.4398 - accuracy: 0.4980\n",
            "Epoch 47/250\n",
            "484/484 [==============================] - 4s 8ms/step - loss: 2.3865 - accuracy: 0.5050\n",
            "Epoch 48/250\n",
            "484/484 [==============================] - 4s 8ms/step - loss: 2.3445 - accuracy: 0.5165\n",
            "Epoch 49/250\n",
            "484/484 [==============================] - 4s 9ms/step - loss: 2.2992 - accuracy: 0.5224\n",
            "Epoch 50/250\n",
            "484/484 [==============================] - 4s 8ms/step - loss: 2.2648 - accuracy: 0.5304\n",
            "Epoch 51/250\n",
            "484/484 [==============================] - 4s 8ms/step - loss: 2.2214 - accuracy: 0.5365\n",
            "Epoch 52/250\n",
            "484/484 [==============================] - 4s 9ms/step - loss: 2.1842 - accuracy: 0.5444\n",
            "Epoch 53/250\n",
            "484/484 [==============================] - 4s 8ms/step - loss: 2.1390 - accuracy: 0.5564\n",
            "Epoch 54/250\n",
            "484/484 [==============================] - 4s 8ms/step - loss: 2.1059 - accuracy: 0.5601\n",
            "Epoch 55/250\n",
            "484/484 [==============================] - 4s 9ms/step - loss: 2.0673 - accuracy: 0.5671\n",
            "Epoch 56/250\n",
            "484/484 [==============================] - 4s 8ms/step - loss: 2.0320 - accuracy: 0.5737\n",
            "Epoch 57/250\n",
            "484/484 [==============================] - 4s 8ms/step - loss: 2.0008 - accuracy: 0.5790\n",
            "Epoch 58/250\n",
            "484/484 [==============================] - 4s 9ms/step - loss: 1.9685 - accuracy: 0.5823\n",
            "Epoch 59/250\n",
            "484/484 [==============================] - 4s 8ms/step - loss: 1.9374 - accuracy: 0.5922\n",
            "Epoch 60/250\n",
            "484/484 [==============================] - 4s 9ms/step - loss: 1.9030 - accuracy: 0.5966\n",
            "Epoch 61/250\n",
            "484/484 [==============================] - 4s 9ms/step - loss: 1.8782 - accuracy: 0.6019\n",
            "Epoch 62/250\n",
            "484/484 [==============================] - 4s 8ms/step - loss: 1.8545 - accuracy: 0.6049\n",
            "Epoch 63/250\n",
            "484/484 [==============================] - 4s 9ms/step - loss: 1.8241 - accuracy: 0.6119\n",
            "Epoch 64/250\n",
            "484/484 [==============================] - 4s 8ms/step - loss: 1.7953 - accuracy: 0.6171\n",
            "Epoch 65/250\n",
            "484/484 [==============================] - 4s 8ms/step - loss: 1.7659 - accuracy: 0.6223\n",
            "Epoch 66/250\n",
            "484/484 [==============================] - 5s 10ms/step - loss: 1.7478 - accuracy: 0.6259\n",
            "Epoch 67/250\n",
            "484/484 [==============================] - 4s 8ms/step - loss: 1.7152 - accuracy: 0.6324\n",
            "Epoch 68/250\n",
            "484/484 [==============================] - 4s 8ms/step - loss: 1.6873 - accuracy: 0.6394\n",
            "Epoch 69/250\n",
            "484/484 [==============================] - 5s 9ms/step - loss: 1.6603 - accuracy: 0.6434\n",
            "Epoch 70/250\n",
            "484/484 [==============================] - 4s 8ms/step - loss: 1.6430 - accuracy: 0.6505\n",
            "Epoch 71/250\n",
            "484/484 [==============================] - 4s 8ms/step - loss: 1.6110 - accuracy: 0.6577\n",
            "Epoch 72/250\n",
            "484/484 [==============================] - 5s 9ms/step - loss: 1.6001 - accuracy: 0.6546\n",
            "Epoch 73/250\n",
            "484/484 [==============================] - 4s 8ms/step - loss: 1.5852 - accuracy: 0.6599\n",
            "Epoch 74/250\n",
            "484/484 [==============================] - 4s 8ms/step - loss: 1.5637 - accuracy: 0.6633\n",
            "Epoch 75/250\n",
            "484/484 [==============================] - 5s 9ms/step - loss: 1.5330 - accuracy: 0.6661\n",
            "Epoch 76/250\n",
            "484/484 [==============================] - 4s 8ms/step - loss: 1.5154 - accuracy: 0.6717\n",
            "Epoch 77/250\n",
            "484/484 [==============================] - 4s 8ms/step - loss: 1.4903 - accuracy: 0.6766\n",
            "Epoch 78/250\n",
            "484/484 [==============================] - 4s 9ms/step - loss: 1.4857 - accuracy: 0.6788\n",
            "Epoch 79/250\n",
            "484/484 [==============================] - 4s 8ms/step - loss: 1.4659 - accuracy: 0.6831\n",
            "Epoch 80/250\n",
            "484/484 [==============================] - 4s 9ms/step - loss: 1.4314 - accuracy: 0.6899\n",
            "Epoch 81/250\n",
            "484/484 [==============================] - 4s 9ms/step - loss: 1.4193 - accuracy: 0.6939\n",
            "Epoch 82/250\n",
            "484/484 [==============================] - 4s 8ms/step - loss: 1.4023 - accuracy: 0.6954\n",
            "Epoch 83/250\n",
            "484/484 [==============================] - 4s 9ms/step - loss: 1.3948 - accuracy: 0.6949\n",
            "Epoch 84/250\n",
            "484/484 [==============================] - 4s 8ms/step - loss: 1.3784 - accuracy: 0.6991\n",
            "Epoch 85/250\n",
            "484/484 [==============================] - 4s 8ms/step - loss: 1.3472 - accuracy: 0.7059\n",
            "Epoch 86/250\n",
            "484/484 [==============================] - 5s 9ms/step - loss: 1.3342 - accuracy: 0.7059\n",
            "Epoch 87/250\n",
            "484/484 [==============================] - 4s 8ms/step - loss: 1.3306 - accuracy: 0.7103\n",
            "Epoch 88/250\n",
            "484/484 [==============================] - 4s 8ms/step - loss: 1.3148 - accuracy: 0.7126\n",
            "Epoch 89/250\n",
            "484/484 [==============================] - 4s 9ms/step - loss: 1.3113 - accuracy: 0.7122\n",
            "Epoch 90/250\n",
            "484/484 [==============================] - 4s 8ms/step - loss: 1.2917 - accuracy: 0.7168\n",
            "Epoch 91/250\n",
            "484/484 [==============================] - 4s 8ms/step - loss: 1.2768 - accuracy: 0.7189\n",
            "Epoch 92/250\n",
            "484/484 [==============================] - 4s 9ms/step - loss: 1.2446 - accuracy: 0.7278\n",
            "Epoch 93/250\n",
            "484/484 [==============================] - 4s 8ms/step - loss: 1.2474 - accuracy: 0.7255\n",
            "Epoch 94/250\n",
            "484/484 [==============================] - 4s 8ms/step - loss: 1.2339 - accuracy: 0.7269\n",
            "Epoch 95/250\n",
            "484/484 [==============================] - 4s 9ms/step - loss: 1.2184 - accuracy: 0.7297\n",
            "Epoch 96/250\n",
            "484/484 [==============================] - 4s 8ms/step - loss: 1.1950 - accuracy: 0.7366\n",
            "Epoch 97/250\n",
            "484/484 [==============================] - 4s 8ms/step - loss: 1.1864 - accuracy: 0.7379\n",
            "Epoch 98/250\n",
            "484/484 [==============================] - 4s 9ms/step - loss: 1.1745 - accuracy: 0.7424\n",
            "Epoch 99/250\n",
            "484/484 [==============================] - 4s 8ms/step - loss: 1.1663 - accuracy: 0.7414\n",
            "Epoch 100/250\n",
            "484/484 [==============================] - 4s 8ms/step - loss: 1.1598 - accuracy: 0.7433\n",
            "Epoch 101/250\n",
            "484/484 [==============================] - 5s 9ms/step - loss: 1.1452 - accuracy: 0.7467\n",
            "Epoch 102/250\n",
            "484/484 [==============================] - 4s 8ms/step - loss: 1.1394 - accuracy: 0.7504\n",
            "Epoch 103/250\n",
            "484/484 [==============================] - 4s 8ms/step - loss: 1.1251 - accuracy: 0.7501\n",
            "Epoch 104/250\n",
            "484/484 [==============================] - 5s 9ms/step - loss: 1.1044 - accuracy: 0.7565\n",
            "Epoch 105/250\n",
            "484/484 [==============================] - 4s 8ms/step - loss: 1.0967 - accuracy: 0.7547\n",
            "Epoch 106/250\n",
            "484/484 [==============================] - 4s 8ms/step - loss: 1.0904 - accuracy: 0.7567\n",
            "Epoch 107/250\n",
            "484/484 [==============================] - 4s 9ms/step - loss: 1.0749 - accuracy: 0.7614\n",
            "Epoch 108/250\n",
            "484/484 [==============================] - 4s 8ms/step - loss: 1.0625 - accuracy: 0.7630\n",
            "Epoch 109/250\n",
            "484/484 [==============================] - 4s 9ms/step - loss: 1.0674 - accuracy: 0.7634\n",
            "Epoch 110/250\n",
            "484/484 [==============================] - 4s 8ms/step - loss: 1.0590 - accuracy: 0.7647\n",
            "Epoch 111/250\n",
            "484/484 [==============================] - 4s 8ms/step - loss: 1.0378 - accuracy: 0.7681\n",
            "Epoch 112/250\n",
            "484/484 [==============================] - 4s 9ms/step - loss: 1.0408 - accuracy: 0.7672\n",
            "Epoch 113/250\n",
            "484/484 [==============================] - 4s 8ms/step - loss: 1.0338 - accuracy: 0.7690\n",
            "Epoch 114/250\n",
            "484/484 [==============================] - 4s 8ms/step - loss: 1.0172 - accuracy: 0.7719\n",
            "Epoch 115/250\n",
            "484/484 [==============================] - 5s 9ms/step - loss: 1.0117 - accuracy: 0.7738\n",
            "Epoch 116/250\n",
            "484/484 [==============================] - 4s 8ms/step - loss: 1.0056 - accuracy: 0.7733\n",
            "Epoch 117/250\n",
            "484/484 [==============================] - 4s 8ms/step - loss: 0.9953 - accuracy: 0.7757\n",
            "Epoch 118/250\n",
            "484/484 [==============================] - 5s 9ms/step - loss: 0.9883 - accuracy: 0.7768\n",
            "Epoch 119/250\n",
            "484/484 [==============================] - 4s 8ms/step - loss: 0.9752 - accuracy: 0.7795\n",
            "Epoch 120/250\n",
            "484/484 [==============================] - 4s 8ms/step - loss: 0.9644 - accuracy: 0.7822\n",
            "Epoch 121/250\n",
            "484/484 [==============================] - 5s 9ms/step - loss: 0.9584 - accuracy: 0.7858\n",
            "Epoch 122/250\n",
            "484/484 [==============================] - 4s 8ms/step - loss: 0.9504 - accuracy: 0.7854\n",
            "Epoch 123/250\n",
            "484/484 [==============================] - 4s 8ms/step - loss: 0.9588 - accuracy: 0.7815\n",
            "Epoch 124/250\n",
            "484/484 [==============================] - 5s 9ms/step - loss: 0.9504 - accuracy: 0.7830\n",
            "Epoch 125/250\n",
            "484/484 [==============================] - 4s 8ms/step - loss: 0.9340 - accuracy: 0.7888\n",
            "Epoch 126/250\n",
            "484/484 [==============================] - 4s 8ms/step - loss: 0.9314 - accuracy: 0.7883\n",
            "Epoch 127/250\n",
            "484/484 [==============================] - 5s 9ms/step - loss: 0.9257 - accuracy: 0.7890\n",
            "Epoch 128/250\n",
            "484/484 [==============================] - 4s 8ms/step - loss: 0.9142 - accuracy: 0.7927\n",
            "Epoch 129/250\n",
            "484/484 [==============================] - 4s 8ms/step - loss: 0.9038 - accuracy: 0.7947\n",
            "Epoch 130/250\n",
            "484/484 [==============================] - 4s 9ms/step - loss: 0.9105 - accuracy: 0.7931\n",
            "Epoch 131/250\n",
            "484/484 [==============================] - 4s 8ms/step - loss: 0.8850 - accuracy: 0.7996\n",
            "Epoch 132/250\n",
            "484/484 [==============================] - 4s 9ms/step - loss: 0.8851 - accuracy: 0.7977\n",
            "Epoch 133/250\n",
            "484/484 [==============================] - 4s 9ms/step - loss: 0.8773 - accuracy: 0.7994\n",
            "Epoch 134/250\n",
            "484/484 [==============================] - 4s 8ms/step - loss: 0.8793 - accuracy: 0.7991\n",
            "Epoch 135/250\n",
            "484/484 [==============================] - 5s 9ms/step - loss: 0.8696 - accuracy: 0.8011\n",
            "Epoch 136/250\n",
            "484/484 [==============================] - 4s 8ms/step - loss: 0.8670 - accuracy: 0.8018\n",
            "Epoch 137/250\n",
            "484/484 [==============================] - 4s 8ms/step - loss: 0.9006 - accuracy: 0.7910\n",
            "Epoch 138/250\n",
            "484/484 [==============================] - 5s 9ms/step - loss: 0.8576 - accuracy: 0.8016\n",
            "Epoch 139/250\n",
            "484/484 [==============================] - 4s 8ms/step - loss: 0.8564 - accuracy: 0.8031\n",
            "Epoch 140/250\n",
            "484/484 [==============================] - 4s 8ms/step - loss: 0.8529 - accuracy: 0.8035\n",
            "Epoch 141/250\n",
            "484/484 [==============================] - 5s 9ms/step - loss: 0.8429 - accuracy: 0.8044\n",
            "Epoch 142/250\n",
            "484/484 [==============================] - 4s 8ms/step - loss: 0.8333 - accuracy: 0.8065\n",
            "Epoch 143/250\n",
            "484/484 [==============================] - 4s 8ms/step - loss: 0.8327 - accuracy: 0.8090\n",
            "Epoch 144/250\n",
            "484/484 [==============================] - 5s 9ms/step - loss: 0.8135 - accuracy: 0.8108\n",
            "Epoch 145/250\n",
            "484/484 [==============================] - 4s 8ms/step - loss: 0.8074 - accuracy: 0.8122\n",
            "Epoch 146/250\n",
            "484/484 [==============================] - 4s 8ms/step - loss: 0.8074 - accuracy: 0.8124\n",
            "Epoch 147/250\n",
            "484/484 [==============================] - 4s 9ms/step - loss: 0.8312 - accuracy: 0.8039\n",
            "Epoch 148/250\n",
            "484/484 [==============================] - 4s 8ms/step - loss: 0.8346 - accuracy: 0.8043\n",
            "Epoch 149/250\n",
            "484/484 [==============================] - 4s 9ms/step - loss: 0.8172 - accuracy: 0.8069\n",
            "Epoch 150/250\n",
            "484/484 [==============================] - 4s 9ms/step - loss: 0.8039 - accuracy: 0.8133\n",
            "Epoch 151/250\n",
            "484/484 [==============================] - 4s 8ms/step - loss: 0.7946 - accuracy: 0.8143\n",
            "Epoch 152/250\n",
            "484/484 [==============================] - 4s 9ms/step - loss: 0.7878 - accuracy: 0.8159\n",
            "Epoch 153/250\n",
            "484/484 [==============================] - 4s 9ms/step - loss: 0.7828 - accuracy: 0.8152\n",
            "Epoch 154/250\n",
            "484/484 [==============================] - 4s 8ms/step - loss: 0.7793 - accuracy: 0.8153\n",
            "Epoch 155/250\n",
            "484/484 [==============================] - 5s 9ms/step - loss: 0.7749 - accuracy: 0.8175\n",
            "Epoch 156/250\n",
            "484/484 [==============================] - 4s 8ms/step - loss: 0.7758 - accuracy: 0.8160\n",
            "Epoch 157/250\n",
            "484/484 [==============================] - 4s 9ms/step - loss: 0.7637 - accuracy: 0.8194\n",
            "Epoch 158/250\n",
            "484/484 [==============================] - 5s 9ms/step - loss: 0.7586 - accuracy: 0.8192\n",
            "Epoch 159/250\n",
            "484/484 [==============================] - 4s 8ms/step - loss: 0.7586 - accuracy: 0.8208\n",
            "Epoch 160/250\n",
            "484/484 [==============================] - 4s 8ms/step - loss: 0.7654 - accuracy: 0.8190\n",
            "Epoch 161/250\n",
            "484/484 [==============================] - 5s 9ms/step - loss: 0.7761 - accuracy: 0.8153\n",
            "Epoch 162/250\n",
            "484/484 [==============================] - 4s 8ms/step - loss: 0.7452 - accuracy: 0.8207\n",
            "Epoch 163/250\n",
            "484/484 [==============================] - 4s 8ms/step - loss: 0.7303 - accuracy: 0.8265\n",
            "Epoch 164/250\n",
            "484/484 [==============================] - 5s 9ms/step - loss: 0.7288 - accuracy: 0.8263\n",
            "Epoch 165/250\n",
            "484/484 [==============================] - 4s 8ms/step - loss: 0.7426 - accuracy: 0.8216\n",
            "Epoch 166/250\n",
            "484/484 [==============================] - 4s 8ms/step - loss: 0.7553 - accuracy: 0.8167\n",
            "Epoch 167/250\n",
            "484/484 [==============================] - 5s 9ms/step - loss: 0.7485 - accuracy: 0.8210\n",
            "Epoch 168/250\n",
            "484/484 [==============================] - 4s 8ms/step - loss: 0.7368 - accuracy: 0.8218\n",
            "Epoch 169/250\n",
            "484/484 [==============================] - 4s 8ms/step - loss: 0.7390 - accuracy: 0.8234\n",
            "Epoch 170/250\n",
            "484/484 [==============================] - 4s 9ms/step - loss: 0.7165 - accuracy: 0.8275\n",
            "Epoch 171/250\n",
            "484/484 [==============================] - 4s 8ms/step - loss: 0.7096 - accuracy: 0.8284\n",
            "Epoch 172/250\n",
            "484/484 [==============================] - 4s 9ms/step - loss: 0.7091 - accuracy: 0.8299\n",
            "Epoch 173/250\n",
            "484/484 [==============================] - 4s 9ms/step - loss: 0.7167 - accuracy: 0.8262\n",
            "Epoch 174/250\n",
            "484/484 [==============================] - 4s 8ms/step - loss: 0.7299 - accuracy: 0.8223\n",
            "Epoch 175/250\n",
            "484/484 [==============================] - 4s 9ms/step - loss: 0.7154 - accuracy: 0.8240\n",
            "Epoch 176/250\n",
            "484/484 [==============================] - 4s 8ms/step - loss: 0.6997 - accuracy: 0.8292\n",
            "Epoch 177/250\n",
            "484/484 [==============================] - 4s 8ms/step - loss: 0.6900 - accuracy: 0.8324\n",
            "Epoch 178/250\n",
            "484/484 [==============================] - 4s 9ms/step - loss: 0.6935 - accuracy: 0.8312\n",
            "Epoch 179/250\n",
            "484/484 [==============================] - 4s 8ms/step - loss: 0.7116 - accuracy: 0.8262\n",
            "Epoch 180/250\n",
            "484/484 [==============================] - 4s 8ms/step - loss: 0.7033 - accuracy: 0.8291\n",
            "Epoch 181/250\n",
            "484/484 [==============================] - 4s 9ms/step - loss: 0.6941 - accuracy: 0.8295\n",
            "Epoch 182/250\n",
            "484/484 [==============================] - 4s 8ms/step - loss: 0.6913 - accuracy: 0.8295\n",
            "Epoch 183/250\n",
            "484/484 [==============================] - 4s 8ms/step - loss: 0.6887 - accuracy: 0.8306\n",
            "Epoch 184/250\n",
            "484/484 [==============================] - 5s 9ms/step - loss: 0.6758 - accuracy: 0.8329\n",
            "Epoch 185/250\n",
            "484/484 [==============================] - 4s 8ms/step - loss: 0.6862 - accuracy: 0.8289\n",
            "Epoch 186/250\n",
            "484/484 [==============================] - 4s 8ms/step - loss: 0.6961 - accuracy: 0.8281\n",
            "Epoch 187/250\n",
            "484/484 [==============================] - 5s 9ms/step - loss: 0.6764 - accuracy: 0.8326\n",
            "Epoch 188/250\n",
            "484/484 [==============================] - 4s 8ms/step - loss: 0.6902 - accuracy: 0.8293\n",
            "Epoch 189/250\n",
            "484/484 [==============================] - 4s 8ms/step - loss: 0.6703 - accuracy: 0.8347\n",
            "Epoch 190/250\n",
            "484/484 [==============================] - 4s 9ms/step - loss: 0.6799 - accuracy: 0.8314\n",
            "Epoch 191/250\n",
            "484/484 [==============================] - 4s 8ms/step - loss: 0.6673 - accuracy: 0.8350\n",
            "Epoch 192/250\n",
            "484/484 [==============================] - 4s 8ms/step - loss: 0.6721 - accuracy: 0.8332\n",
            "Epoch 193/250\n",
            "484/484 [==============================] - 5s 9ms/step - loss: 0.6606 - accuracy: 0.8347\n",
            "Epoch 194/250\n",
            "484/484 [==============================] - 4s 8ms/step - loss: 0.6788 - accuracy: 0.8311\n",
            "Epoch 195/250\n",
            "484/484 [==============================] - 4s 8ms/step - loss: 0.6661 - accuracy: 0.8328\n",
            "Epoch 196/250\n",
            "484/484 [==============================] - 4s 9ms/step - loss: 0.6468 - accuracy: 0.8401\n",
            "Epoch 197/250\n",
            "484/484 [==============================] - 4s 8ms/step - loss: 0.6422 - accuracy: 0.8400\n",
            "Epoch 198/250\n",
            "484/484 [==============================] - 4s 9ms/step - loss: 0.6497 - accuracy: 0.8384\n",
            "Epoch 199/250\n",
            "484/484 [==============================] - 4s 9ms/step - loss: 0.6706 - accuracy: 0.8340\n",
            "Epoch 200/250\n",
            "484/484 [==============================] - 4s 8ms/step - loss: 0.6463 - accuracy: 0.8382\n",
            "Epoch 201/250\n",
            "484/484 [==============================] - 4s 9ms/step - loss: 0.6426 - accuracy: 0.8395\n",
            "Epoch 202/250\n",
            "484/484 [==============================] - 4s 9ms/step - loss: 0.6504 - accuracy: 0.8358\n",
            "Epoch 203/250\n",
            "484/484 [==============================] - 4s 8ms/step - loss: 0.6477 - accuracy: 0.8364\n",
            "Epoch 204/250\n",
            "484/484 [==============================] - 4s 9ms/step - loss: 0.6555 - accuracy: 0.8346\n",
            "Epoch 205/250\n",
            "484/484 [==============================] - 4s 8ms/step - loss: 0.6427 - accuracy: 0.8381\n",
            "Epoch 206/250\n",
            "484/484 [==============================] - 4s 8ms/step - loss: 0.6293 - accuracy: 0.8419\n",
            "Epoch 207/250\n",
            "484/484 [==============================] - 5s 9ms/step - loss: 0.6273 - accuracy: 0.8397\n",
            "Epoch 208/250\n",
            "484/484 [==============================] - 4s 8ms/step - loss: 0.6403 - accuracy: 0.8388\n",
            "Epoch 209/250\n",
            "484/484 [==============================] - 4s 9ms/step - loss: 0.6451 - accuracy: 0.8364\n",
            "Epoch 210/250\n",
            "484/484 [==============================] - 5s 9ms/step - loss: 0.6343 - accuracy: 0.8379\n",
            "Epoch 211/250\n",
            "484/484 [==============================] - 4s 8ms/step - loss: 0.6326 - accuracy: 0.8387\n",
            "Epoch 212/250\n",
            "484/484 [==============================] - 4s 8ms/step - loss: 0.6340 - accuracy: 0.8377\n",
            "Epoch 213/250\n",
            "484/484 [==============================] - 5s 9ms/step - loss: 0.6283 - accuracy: 0.8401\n",
            "Epoch 214/250\n",
            "484/484 [==============================] - 4s 8ms/step - loss: 0.6203 - accuracy: 0.8403\n",
            "Epoch 215/250\n",
            "484/484 [==============================] - 4s 8ms/step - loss: 0.6195 - accuracy: 0.8397\n",
            "Epoch 216/250\n",
            "484/484 [==============================] - 5s 10ms/step - loss: 0.6236 - accuracy: 0.8392\n",
            "Epoch 217/250\n",
            "484/484 [==============================] - 4s 9ms/step - loss: 0.6465 - accuracy: 0.8347\n",
            "Epoch 218/250\n",
            "484/484 [==============================] - 4s 9ms/step - loss: 0.6351 - accuracy: 0.8375\n",
            "Epoch 219/250\n",
            "484/484 [==============================] - 4s 9ms/step - loss: 0.6275 - accuracy: 0.8380\n",
            "Epoch 220/250\n",
            "484/484 [==============================] - 4s 9ms/step - loss: 0.6274 - accuracy: 0.8388\n",
            "Epoch 221/250\n",
            "484/484 [==============================] - 5s 9ms/step - loss: 0.6258 - accuracy: 0.8393\n",
            "Epoch 222/250\n",
            "484/484 [==============================] - 4s 8ms/step - loss: 0.6110 - accuracy: 0.8420\n",
            "Epoch 223/250\n",
            "484/484 [==============================] - 4s 8ms/step - loss: 0.6412 - accuracy: 0.8360\n",
            "Epoch 224/250\n",
            "484/484 [==============================] - 5s 10ms/step - loss: 0.6292 - accuracy: 0.8377\n",
            "Epoch 225/250\n",
            "484/484 [==============================] - 4s 8ms/step - loss: 0.6138 - accuracy: 0.8418\n",
            "Epoch 226/250\n",
            "484/484 [==============================] - 4s 8ms/step - loss: 0.6067 - accuracy: 0.8441\n",
            "Epoch 227/250\n",
            "484/484 [==============================] - 5s 10ms/step - loss: 0.6017 - accuracy: 0.8436\n",
            "Epoch 228/250\n",
            "484/484 [==============================] - 4s 8ms/step - loss: 0.6128 - accuracy: 0.8415\n",
            "Epoch 229/250\n",
            "484/484 [==============================] - 4s 8ms/step - loss: 0.6023 - accuracy: 0.8441\n",
            "Epoch 230/250\n",
            "484/484 [==============================] - 5s 10ms/step - loss: 0.5948 - accuracy: 0.8453\n",
            "Epoch 231/250\n",
            "484/484 [==============================] - 4s 9ms/step - loss: 0.5950 - accuracy: 0.8450\n",
            "Epoch 232/250\n",
            "484/484 [==============================] - 4s 9ms/step - loss: 0.5886 - accuracy: 0.8468\n",
            "Epoch 233/250\n",
            "484/484 [==============================] - 4s 9ms/step - loss: 0.5897 - accuracy: 0.8472\n",
            "Epoch 234/250\n",
            "484/484 [==============================] - 4s 8ms/step - loss: 0.5929 - accuracy: 0.8449\n",
            "Epoch 235/250\n",
            "484/484 [==============================] - 4s 9ms/step - loss: 0.6280 - accuracy: 0.8336\n",
            "Epoch 236/250\n",
            "484/484 [==============================] - 4s 9ms/step - loss: 0.6398 - accuracy: 0.8335\n",
            "Epoch 237/250\n",
            "484/484 [==============================] - 4s 8ms/step - loss: 0.6323 - accuracy: 0.8350\n",
            "Epoch 238/250\n",
            "484/484 [==============================] - 4s 9ms/step - loss: 0.5973 - accuracy: 0.8447\n",
            "Epoch 239/250\n",
            "484/484 [==============================] - 4s 9ms/step - loss: 0.5832 - accuracy: 0.8460\n",
            "Epoch 240/250\n",
            "484/484 [==============================] - 4s 8ms/step - loss: 0.5911 - accuracy: 0.8442\n",
            "Epoch 241/250\n",
            "484/484 [==============================] - 5s 9ms/step - loss: 0.5868 - accuracy: 0.8466\n",
            "Epoch 242/250\n",
            "484/484 [==============================] - 4s 8ms/step - loss: 0.5992 - accuracy: 0.8419\n",
            "Epoch 243/250\n",
            "484/484 [==============================] - 4s 8ms/step - loss: 0.6282 - accuracy: 0.8367\n",
            "Epoch 244/250\n",
            "484/484 [==============================] - 5s 10ms/step - loss: 0.6023 - accuracy: 0.8403\n",
            "Epoch 245/250\n",
            "484/484 [==============================] - 4s 8ms/step - loss: 0.5975 - accuracy: 0.8434\n",
            "Epoch 246/250\n",
            "484/484 [==============================] - 4s 8ms/step - loss: 0.5865 - accuracy: 0.8445\n",
            "Epoch 247/250\n",
            "484/484 [==============================] - 5s 10ms/step - loss: 0.5877 - accuracy: 0.8448\n",
            "Epoch 248/250\n",
            "484/484 [==============================] - 4s 9ms/step - loss: 0.5971 - accuracy: 0.8433\n",
            "Epoch 249/250\n",
            "484/484 [==============================] - 4s 9ms/step - loss: 0.6057 - accuracy: 0.8414\n",
            "Epoch 250/250\n",
            "484/484 [==============================] - 5s 9ms/step - loss: 0.6011 - accuracy: 0.8407\n"
          ]
        }
      ],
      "source": [
        "# Get the untrained model\n",
        "model = create_model(total_words, max_sequence_len)\n",
        "\n",
        "# Train the model\n",
        "history = model.fit(features, labels, epochs=250, verbose=1)"
      ]
    },
    {
      "cell_type": "markdown",
      "metadata": {
        "id": "gy72RPgly55q"
      },
      "source": [
        "**To pass this assignment, your model should achieve a training accuracy of at least 80%**. If your model didn't achieve this threshold, try training again with a different model architecture, consider increasing the number of unit in your `LSTM` layer."
      ]
    },
    {
      "cell_type": "code",
      "execution_count": 23,
      "metadata": {
        "id": "1fXTEO3GJ282",
        "tags": [],
        "colab": {
          "base_uri": "https://localhost:8080/",
          "height": 887
        },
        "outputId": "216e0e8a-2bee-4ee9-b93d-555db51eaaa2"
      },
      "outputs": [
        {
          "output_type": "display_data",
          "data": {
            "text/plain": [
              "<Figure size 640x480 with 1 Axes>"
            ],
            "image/png": "[encoded data removed]"
          },
          "metadata": {}
        },
        {
          "output_type": "display_data",
          "data": {
            "text/plain": [
              "<Figure size 640x480 with 1 Axes>"
            ],
            "image/png": "[encoded data removed]"
          },
          "metadata": {}
        }
      ],
      "source": [
        "# Take a look at the training curves of your model\n",
        "\n",
        "acc = history.history['accuracy']\n",
        "loss = history.history['loss']\n",
        "\n",
        "epochs = range(len(acc))\n",
        "\n",
        "plt.plot(epochs, acc, 'b', label='Training accuracy')\n",
        "plt.title('Training accuracy')\n",
        "\n",
        "plt.figure()\n",
        "\n",
        "plt.plot(epochs, loss, 'b', label='Training Loss')\n",
        "plt.title('Training loss')\n",
        "plt.legend()\n",
        "\n",
        "plt.show()"
      ]
    },
    {
      "cell_type": "markdown",
      "metadata": {
        "id": "OjvED5A3qrn2"
      },
      "source": [
        "Before closing the assignment, be sure to also download the `history.pkl` file which contains the information of the training history of your model and will be used to compute your grade. You can download this file by running the cell below:"
      ]
    },
    {
      "cell_type": "code",
      "execution_count": 24,
      "metadata": {
        "id": "9QRG73l6qE-c",
        "tags": [],
        "colab": {
          "base_uri": "https://localhost:8080/",
          "height": 17
        },
        "outputId": "ae832f2d-c5af-4a24-f15b-eeb25c57394f"
      },
      "outputs": [
        {
          "output_type": "display_data",
          "data": {
            "text/plain": [
              "<IPython.core.display.Javascript object>"
            ],
            "application/javascript": [
              "\n",
              "    async function download(id, filename, size) {\n",
              "      if (!google.colab.kernel.accessAllowed) {\n",
              "        return;\n",
              "      }\n",
              "      const div = document.createElement('div');\n",
              "      const label = document.createElement('label');\n",
              "      label.textContent = `Downloading \"${filename}\": `;\n",
              "      div.appendChild(label);\n",
              "      const progress = document.createElement('progress');\n",
              "      progress.max = size;\n",
              "      div.appendChild(progress);\n",
              "      document.body.appendChild(div);\n",
              "\n",
              "      const buffers = [];\n",
              "      let downloaded = 0;\n",
              "\n",
              "      const channel = await google.colab.kernel.comms.open(id);\n",
              "      // Send a message to notify the kernel that we're ready.\n",
              "      channel.send({})\n",
              "\n",
              "      for await (const message of channel.messages) {\n",
              "        // Send a message to notify the kernel that we're ready.\n",
              "        channel.send({})\n",
              "        if (message.buffers) {\n",
              "          for (const buffer of message.buffers) {\n",
              "            buffers.push(buffer);\n",
              "            downloaded += buffer.byteLength;\n",
              "            progress.value = downloaded;\n",
              "          }\n",
              "        }\n",
              "      }\n",
              "      const blob = new Blob(buffers, {type: 'application/binary'});\n",
              "      const a = document.createElement('a');\n",
              "      a.href = window.URL.createObjectURL(blob);\n",
              "      a.download = filename;\n",
              "      div.appendChild(a);\n",
              "      a.click();\n",
              "      div.remove();\n",
              "    }\n",
              "  "
            ]
          },
          "metadata": {}
        },
        {
          "output_type": "display_data",
          "data": {
            "text/plain": [
              "<IPython.core.display.Javascript object>"
            ],
            "application/javascript": [
              "download(\"download_701b4372-c06d-4fbd-a901-628ed82b885f\", \"history.pkl\", 4542)"
            ]
          },
          "metadata": {}
        }
      ],
      "source": [
        "def download_history():\n",
        "  import pickle\n",
        "  from google.colab import files\n",
        "\n",
        "  with open('history.pkl', 'wb') as f:\n",
        "    pickle.dump(history.history, f)\n",
        "\n",
        "  files.download('history.pkl')\n",
        "\n",
        "download_history()"
      ]
    },
    {
      "cell_type": "markdown",
      "metadata": {
        "id": "wdsMszk9zBs_"
      },
      "source": [
        "## See your model in action\n",
        "\n",
        "After all your work it is finally time to see your model generating text.\n",
        "\n",
        "Run the cell below to generate the next 100 words of a seed text.\n",
        "\n",
        "After submitting your assignment you are encouraged to try out training for different amounts of epochs and seeing how this affects the coherency of the generated text. Also try changing the seed text to see what you get!"
      ]
    },
    {
      "cell_type": "code",
      "execution_count": 25,
      "metadata": {
        "id": "6Vc6PHgxa6Hm",
        "tags": [],
        "colab": {
          "base_uri": "https://localhost:8080/"
        },
        "outputId": "c27fb469-1713-409a-fcb1-c4eb5dc976ea"
      },
      "outputs": [
        {
          "output_type": "stream",
          "name": "stdout",
          "text": [
            "Help me Obi Wan Kenobi, you're my only hope thy weary as go hath end steals up knew relief carved down corrupt return thinking 'now hast expire ears shine 'now not ' whilst scorn in use their tomb the tomb posterity part against addition some not knowing great gift worse keep what conscience unwoo'd had thee bosom 'gainst write sovereign beauties waves centre again sounds shine bright spent keep her cheeks but despised kind 'tis kind perfection bail afresh draw had so but what he lofty look i bring thee and effect worth wits dully inheritors to disgrace grace thee with tears out of absent in profaned above corrupting\n"
          ]
        }
      ],
      "source": [
        "seed_text = \"Help me Obi Wan Kenobi, you're my only hope\"\n",
        "next_words = 100\n",
        "\n",
        "for _ in range(next_words):\n",
        "    # Convert the text into sequences\n",
        "    token_list = tokenizer.texts_to_sequences([seed_text])[0]\n",
        "    # Pad the sequences\n",
        "    token_list = pad_sequences([token_list], maxlen=max_sequence_len-1, padding='pre')\n",
        "    # Get the probabilities of predicting a word\n",
        "    predicted = model.predict(token_list, verbose=0)\n",
        "    # Choose the next word based on the maximum probability\n",
        "    predicted = np.argmax(predicted, axis=-1).item()\n",
        "    # Get the actual word from the word index\n",
        "    output_word = tokenizer.index_word[predicted]\n",
        "    # Append to the current text\n",
        "    seed_text += \" \" + output_word\n",
        "\n",
        "print(seed_text)"
      ]
    },
    {
      "cell_type": "markdown",
      "metadata": {
        "id": "oQVDbdcYqSux"
      },
      "source": [
        "## Download your notebook for grading\n",
        "\n",
        "Along with the `history.pkl` file earlier, you will also need to submit your solution notebook for grading. The following code cells will check if this notebook's grader metadata (i.e. hidden data in the notebook needed for grading) is not modified by your workspace. This will ensure that the autograder can evaluate your code properly. Depending on its output, you will either:\n",
        "\n",
        "* *if the metadata is intact*: Download the current notebook. Click on the File tab on the upper left corner of the screen then click on `Download -> Download .ipynb.` You can name it anything you want as long as it is a valid `.ipynb` (jupyter notebook) file.\n",
        "<br>\n",
        "\n",
        "* *if the metadata is missing*: A new notebook with your solutions will be created on this Colab workspace. It should be downloaded automatically and you can submit that to the grader."
      ]
    },
    {
      "cell_type": "code",
      "execution_count": 26,
      "metadata": {
        "id": "ZUEiIXZEShHw",
        "colab": {
          "base_uri": "https://localhost:8080/"
        },
        "outputId": "fb10f75a-c458-40e5-83b3-67d4770c8dac"
      },
      "outputs": [
        {
          "output_type": "stream",
          "name": "stdout",
          "text": [
            "--2024-01-25 08:10:24--  https://storage.googleapis.com/tensorflow-1-public/colab_metadata_checker.py\n",
            "Resolving storage.googleapis.com (storage.googleapis.com)... 173.194.193.207, 173.194.194.207, 173.194.195.207, ...\n",
            "Connecting to storage.googleapis.com (storage.googleapis.com)|173.194.193.207|:443... connected.\n",
            "HTTP request sent, awaiting response... 200 OK\n",
            "Length: 1997 (2.0K) [text/x-python-script]\n",
            "Saving to: ‘colab_metadata_checker.py’\n",
            "\n",
            "\r          colab_met   0%[                    ]       0  --.-KB/s               \rcolab_metadata_chec 100%[===================>]   1.95K  --.-KB/s    in 0s      \n",
            "\n",
            "2024-01-25 08:10:24 (44.8 MB/s) - ‘colab_metadata_checker.py’ saved [1997/1997]\n",
            "\n"
          ]
        }
      ],
      "source": [
        "# Download metadata checker\n",
        "!wget -nc https://storage.googleapis.com/tensorflow-1-public/colab_metadata_checker.py"
      ]
    },
    {
      "cell_type": "code",
      "execution_count": 27,
      "metadata": {
        "id": "Ek87UXX7Sj6b",
        "colab": {
          "base_uri": "https://localhost:8080/"
        },
        "outputId": "8b140118-6735-4afe-d237-6ec2f2884a33"
      },
      "outputs": [
        {
          "output_type": "stream",
          "name": "stdout",
          "text": [
            "Grader metadata detected! You can download this notebook by clicking `File > Download > Download as .ipynb` and submit it to the grader!\n"
          ]
        }
      ],
      "source": [
        "import colab_metadata_checker\n",
        "\n",
        "# Please see the output of this cell to see which file you need to submit to the grader\n",
        "colab_metadata_checker.run('C3W4_Assignment_fixed.ipynb')"
      ]
    },
    {
      "cell_type": "markdown",
      "metadata": {
        "id": "zmA2euQnTDvZ"
      },
      "source": [
        "**Please disregard the following note if the notebook metadata is detected**\n",
        "\n",
        "_Note: Just in case the automatic download fails when the metadata is missing, you can also do these steps:_\n",
        "* _Click the Folder icon on the left side of this screen to open the File Manager._\n",
        "* _Click the Folder Refresh icon in the File Manager to see the latest files in the workspace. You should see a file ending with a `_fixed.ipynb`._\n",
        "* _Right-click on that file to save locally and submit it to the grader._"
      ]
    },
    {
      "cell_type": "markdown",
      "metadata": {
        "id": "6r-X-HXtSc8N"
      },
      "source": [
        "**Congratulations on finishing this week's assignment!**\n",
        "\n",
        "You have successfully implemented a neural network capable of predicting the next word in a sequence of text!\n",
        "\n",
        "**We hope to see you in the next course of the specialization! Keep it up!**"
      ]
    }
  ],
  "metadata": {
    "accelerator": "GPU",
    "colab": {
      "provenance": [],
      "gpuType": "T4"
    },
    "dlai_version": "1.2.0",
    "jupytext": {
      "main_language": "python"
    },
    "kernelspec": {
      "display_name": "Python 3",
      "name": "python3"
    },
    "language_info": {
      "codemirror_mode": {
        "name": "ipython",
        "version": 3
      },
      "file_extension": ".py",
      "mimetype": "text/x-python",
      "name": "python",
      "nbconvert_exporter": "python",
      "pygments_lexer": "ipython3",
      "version": "3.9.13"
    }
  },
  "nbformat": 4,
  "nbformat_minor": 0
}